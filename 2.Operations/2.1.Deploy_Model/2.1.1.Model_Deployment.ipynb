{
 "cells": [
  {
   "cell_type": "markdown",
   "metadata": {},
   "source": [
    "# Demonstration of model in operation"
   ]
  },
  {
   "cell_type": "markdown",
   "metadata": {},
   "source": [
    "Load dependencies"
   ]
  },
  {
   "cell_type": "code",
   "execution_count": 1,
   "metadata": {},
   "outputs": [],
   "source": [
    "# Import frameworks\n",
    "import numpy as np\n",
    "import pandas as pd\n",
    "import matplotlib.pyplot as plt\n",
    "from sklearn.preprocessing import PolynomialFeatures\n",
    "from sklearn.linear_model import LinearRegression\n",
    "import pickle"
   ]
  },
  {
   "cell_type": "code",
   "execution_count": 2,
   "metadata": {},
   "outputs": [],
   "source": [
    "training_data = pd.read_csv('1.3.2.training_data.csv')\n"
   ]
  },
  {
   "cell_type": "code",
   "execution_count": 3,
   "metadata": {},
   "outputs": [],
   "source": [
    "poly_filename = '5degpolymulti.pkl'\n",
    "model_filename = '5degpolymulti.sav'"
   ]
  },
  {
   "cell_type": "code",
   "execution_count": 4,
   "metadata": {},
   "outputs": [],
   "source": [
    "x_names = ['Engagement', 'Knowledge', 'Attendance']  # Multiple features\n",
    "y_name = 'Exam_Score'\n",
    "x = np.array(training_data[x_names])\n",
    "y = np.array(training_data[y_name])"
   ]
  },
  {
   "cell_type": "code",
   "execution_count": 6,
   "metadata": {},
   "outputs": [
    {
     "name": "stdout",
     "output_type": "stream",
     "text": [
      "Median of Variable1: 0.2005813953488371\n",
      "Median of Variable2: 0.2023255813953488\n",
      "Median of Variable3: 0.5\n"
     ]
    }
   ],
   "source": [
    "import pandas as pd\n",
    "\n",
    "# Load the dataset\n",
    "data = pd.read_csv('1.3.2.training_data.csv')\n",
    "\n",
    "# Replace 'Variable1', 'Variable2', 'Variable3' with the actual column names\n",
    "median_var1 = data['Engagement'].median()\n",
    "median_var2 = data['Knowledge'].median()\n",
    "median_var3 = data['Attendance'].median()\n",
    "\n",
    "print(f\"Median of Variable1: {median_var1}\")\n",
    "print(f\"Median of Variable2: {median_var2}\")\n",
    "print(f\"Median of Variable3: {median_var3}\")"
   ]
  },
  {
   "cell_type": "code",
   "execution_count": 17,
   "metadata": {},
   "outputs": [
    {
     "name": "stdout",
     "output_type": "stream",
     "text": [
      "Prediction for input [[0.2 0.2 0.5]]: 66.78579252064725\n"
     ]
    }
   ],
   "source": [
    "import numpy as np\n",
    "import pickle\n",
    "\n",
    "folder_path = 'operations_models/'\n",
    "model_filename = folder_path + '5degpolymulti.sav'\n",
    "poly_filename = folder_path + '5degpolymulti.pkl'\n",
    "\n",
    "loaded_model = pickle.load(open(model_filename, 'rb'))  # Load the trained model\n",
    "loaded_poly = pickle.load(open(poly_filename, 'rb'))  # Load the polynomial transformer\n",
    "\n",
    "example_input = np.array([[0.2, 0.2, 0.5]])\n",
    "\n",
    "example_input_poly = loaded_poly.transform(example_input)\n",
    "\n",
    "example_prediction = loaded_model.predict(example_input_poly)\n",
    "\n",
    "print(f\"Prediction for input {example_input}: {example_prediction[0]}\")"
   ]
  }
 ],
 "metadata": {
  "kernelspec": {
   "display_name": "Python 3",
   "language": "python",
   "name": "python3"
  },
  "language_info": {
   "codemirror_mode": {
    "name": "ipython",
    "version": 3
   },
   "file_extension": ".py",
   "mimetype": "text/x-python",
   "name": "python",
   "nbconvert_exporter": "python",
   "pygments_lexer": "ipython3",
   "version": "3.12.1"
  }
 },
 "nbformat": 4,
 "nbformat_minor": 2
}
