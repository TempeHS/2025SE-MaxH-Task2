{
 "cells": [
  {
   "cell_type": "markdown",
   "metadata": {},
   "source": [
    "# Data Wrangling"
   ]
  },
  {
   "cell_type": "markdown",
   "metadata": {},
   "source": [
    "## Load the required dependencies\n"
   ]
  },
  {
   "cell_type": "code",
   "execution_count": 3,
   "metadata": {},
   "outputs": [],
   "source": [
    "# Import frameworks\n",
    "import pandas as pd\n",
    "import pickle"
   ]
  },
  {
   "cell_type": "markdown",
   "metadata": {},
   "source": [
    "### Store the data as a local variable\n",
    "The data frame is a Pandas object that structures your tabular data into an appropriate format. It loads the complete data in memory so it is now ready for preprocessing."
   ]
  },
  {
   "cell_type": "code",
   "execution_count": 4,
   "metadata": {},
   "outputs": [],
   "source": [
    "data_frame = pd.read_csv(\"1.1.4.Student_Scores_Data.csv\")\n"
   ]
  },
  {
   "cell_type": "markdown",
   "metadata": {},
   "source": [
    "### Dealing with null values\n",
    "Null values during data analysis can cause runtime errors and unexpected results. It is important to identify null values and deal with them appropriately before training a model.\n",
    "\n",
    "The isnull().sum() method call returns the null values in any column."
   ]
  },
  {
   "cell_type": "code",
   "execution_count": 5,
   "metadata": {},
   "outputs": [
    {
     "data": {
      "text/plain": [
       "Hours_Studied                  0\n",
       "Attendance                     0\n",
       "Parental_Involvement           0\n",
       "Access_to_Resources            0\n",
       "Extracurricular_Activities     0\n",
       "Sleep_Hours                    0\n",
       "Previous_Scores                0\n",
       "Motivation_Level               0\n",
       "Internet_Access                0\n",
       "Tutoring_Sessions              0\n",
       "Family_Income                  0\n",
       "Teacher_Quality               78\n",
       "School_Type                    0\n",
       "Peer_Influence                 0\n",
       "Physical_Activity              0\n",
       "Learning_Disabilities          0\n",
       "Parental_Education_Level      90\n",
       "Distance_from_Home            67\n",
       "Gender                         0\n",
       "Exam_Score                     0\n",
       "dtype: int64"
      ]
     },
     "execution_count": 5,
     "metadata": {},
     "output_type": "execute_result"
    }
   ],
   "source": [
    "data_frame.isnull().sum()"
   ]
  },
  {
   "cell_type": "markdown",
   "metadata": {},
   "source": [
    "To deal with the null variables from the dataset you can either:\n",
    " - Remove a row with dropna() method call\n",
    " - Replace missing values with fillna() method call and use mean value for numerical columns because it causes minimal changes in mathematical analysis while maintaining original data size"
   ]
  },
  {
   "cell_type": "code",
   "execution_count": 6,
   "metadata": {},
   "outputs": [
    {
     "data": {
      "text/plain": [
       "Hours_Studied                  0\n",
       "Attendance                     0\n",
       "Parental_Involvement           0\n",
       "Access_to_Resources            0\n",
       "Extracurricular_Activities     0\n",
       "Sleep_Hours                    0\n",
       "Previous_Scores                0\n",
       "Motivation_Level               0\n",
       "Internet_Access                0\n",
       "Tutoring_Sessions              0\n",
       "Family_Income                  0\n",
       "Teacher_Quality                0\n",
       "School_Type                    0\n",
       "Peer_Influence                 0\n",
       "Physical_Activity              0\n",
       "Learning_Disabilities          0\n",
       "Parental_Education_Level      86\n",
       "Distance_from_Home            65\n",
       "Gender                         0\n",
       "Exam_Score                     0\n",
       "dtype: int64"
      ]
     },
     "execution_count": 6,
     "metadata": {},
     "output_type": "execute_result"
    }
   ],
   "source": [
    "# Remove Null values for teacher quality\n",
    "data_frame = data_frame.dropna(subset=['Teacher_Quality'])\n",
    "data_frame.isnull().sum()"
   ]
  },
  {
   "cell_type": "code",
   "execution_count": 7,
   "metadata": {},
   "outputs": [
    {
     "data": {
      "text/plain": [
       "Hours_Studied                  0\n",
       "Attendance                     0\n",
       "Parental_Involvement           0\n",
       "Access_to_Resources            0\n",
       "Extracurricular_Activities     0\n",
       "Sleep_Hours                    0\n",
       "Previous_Scores                0\n",
       "Motivation_Level               0\n",
       "Internet_Access                0\n",
       "Tutoring_Sessions              0\n",
       "Family_Income                  0\n",
       "Teacher_Quality                0\n",
       "School_Type                    0\n",
       "Peer_Influence                 0\n",
       "Physical_Activity              0\n",
       "Learning_Disabilities          0\n",
       "Parental_Education_Level       0\n",
       "Distance_from_Home            65\n",
       "Gender                         0\n",
       "Exam_Score                     0\n",
       "dtype: int64"
      ]
     },
     "execution_count": 7,
     "metadata": {},
     "output_type": "execute_result"
    }
   ],
   "source": [
    "# Remove Null values for parental education level\n",
    "data_frame = data_frame.dropna(subset=['Parental_Education_Level'])\n",
    "data_frame.isnull().sum()"
   ]
  },
  {
   "cell_type": "code",
   "execution_count": 8,
   "metadata": {},
   "outputs": [
    {
     "data": {
      "text/plain": [
       "Hours_Studied                 0\n",
       "Attendance                    0\n",
       "Parental_Involvement          0\n",
       "Access_to_Resources           0\n",
       "Extracurricular_Activities    0\n",
       "Sleep_Hours                   0\n",
       "Previous_Scores               0\n",
       "Motivation_Level              0\n",
       "Internet_Access               0\n",
       "Tutoring_Sessions             0\n",
       "Family_Income                 0\n",
       "Teacher_Quality               0\n",
       "School_Type                   0\n",
       "Peer_Influence                0\n",
       "Physical_Activity             0\n",
       "Learning_Disabilities         0\n",
       "Parental_Education_Level      0\n",
       "Distance_from_Home            0\n",
       "Gender                        0\n",
       "Exam_Score                    0\n",
       "dtype: int64"
      ]
     },
     "execution_count": 8,
     "metadata": {},
     "output_type": "execute_result"
    }
   ],
   "source": [
    "# Remove Null values for distance from home\n",
    "data_frame = data_frame.dropna(subset=['Distance_from_Home'])\n",
    "data_frame.isnull().sum()"
   ]
  },
  {
   "cell_type": "markdown",
   "metadata": {},
   "source": [
    "Null values were removed rather than replacing missing values as the features with null values were categorical data not numerical so there is no definite mean variable to replace them with."
   ]
  },
  {
   "cell_type": "markdown",
   "metadata": {},
   "source": [
    "### Remove Duplicates\n",
    "Duplicate data can have detrimental effects on the machine learning model and outcomes, such as reducing data diversity and representativeness, which can lead to overfitting or a biased model.\n",
    "\n",
    "The duplicated().sum() method call returns the count of duplicate rows in the data set."
   ]
  },
  {
   "cell_type": "code",
   "execution_count": 9,
   "metadata": {},
   "outputs": [
    {
     "data": {
      "text/plain": [
       "np.int64(0)"
      ]
     },
     "execution_count": 9,
     "metadata": {},
     "output_type": "execute_result"
    }
   ],
   "source": [
    "data_frame.duplicated().sum()"
   ]
  },
  {
   "cell_type": "markdown",
   "metadata": {},
   "source": [
    "The drop_duplicates() method call can be then stored back onto the data_frame variable removing the duplicates. There are no duplicates in this dataset but removing duplicated will be demonstrated.\n"
   ]
  },
  {
   "cell_type": "code",
   "execution_count": 10,
   "metadata": {},
   "outputs": [
    {
     "data": {
      "text/plain": [
       "np.int64(0)"
      ]
     },
     "execution_count": 10,
     "metadata": {},
     "output_type": "execute_result"
    }
   ],
   "source": [
    "data_frame = data_frame.drop_duplicates()\n",
    "data_frame.duplicated().sum()"
   ]
  },
  {
   "cell_type": "markdown",
   "metadata": {},
   "source": [
    "### Replace data\n",
    "I have decided not to replace any data and modify any values. This is for simplicity as changing something like Gender to be lower case rather than uppercase would mean changing the other categorical columns which is time consuming and inneffective."
   ]
  },
  {
   "cell_type": "markdown",
   "metadata": {},
   "source": [
    "### Remove outliers\n",
    "Outliers may skew the analysis on numerical columns so it is important to address and potentially remove them. After using the first and third quartile on numerical data outliers were identified but extreme values can represent patterns for the model to recognize and use to generalize across different amount of hours studied."
   ]
  },
  {
   "cell_type": "code",
   "execution_count": 11,
   "metadata": {},
   "outputs": [
    {
     "name": "stdout",
     "output_type": "stream",
     "text": [
      "count    6378.000000\n",
      "mean       19.977109\n",
      "std         5.985460\n",
      "min         1.000000\n",
      "25%        16.000000\n",
      "50%        20.000000\n",
      "75%        24.000000\n",
      "max        44.000000\n",
      "Name: Hours_Studied, dtype: float64\n",
      "Outliers are a Exam_Score above 36.0 or below 4.0\n"
     ]
    }
   ],
   "source": [
    "#get the inter-quartile range on the Hours_Studied column\n",
    "print(data_frame['Hours_Studied'].describe())\n",
    "Q1 = data_frame['Hours_Studied'].quantile(0.25)\n",
    "Q3 = data_frame['Hours_Studied'].quantile(0.75)\n",
    "IQR = Q3 - Q1\n",
    "print(f'Outliers are a Exam_Score above {Q3 + IQR * 1.5} or below {Q1 - IQR * 1.5}')"
   ]
  },
  {
   "cell_type": "markdown",
   "metadata": {},
   "source": [
    "The Exam Score column is the target for our model so filtering through outliers is not effective. Though there is a score of 101 which is in theory not possible and has the possibility to skew data so it will be eliminated."
   ]
  },
  {
   "cell_type": "code",
   "execution_count": 12,
   "metadata": {},
   "outputs": [
    {
     "name": "stdout",
     "output_type": "stream",
     "text": [
      "count    6377.000000\n",
      "mean       67.246825\n",
      "std         3.891637\n",
      "min        55.000000\n",
      "25%        65.000000\n",
      "50%        67.000000\n",
      "75%        69.000000\n",
      "max       100.000000\n",
      "Name: Exam_Score, dtype: float64\n"
     ]
    }
   ],
   "source": [
    "# Remove single outlying value\n",
    "data_frame = data_frame[data_frame['Exam_Score'] <= 100]\n",
    "print(data_frame['Exam_Score'].describe())"
   ]
  },
  {
   "cell_type": "markdown",
   "metadata": {},
   "source": [
    "The Hours studied will be filtered within an acceptable range"
   ]
  },
  {
   "cell_type": "code",
   "execution_count": 13,
   "metadata": {},
   "outputs": [
    {
     "name": "stdout",
     "output_type": "stream",
     "text": [
      "count    6337.000000\n",
      "mean       19.967019\n",
      "std         5.829112\n",
      "min         4.000000\n",
      "25%        16.000000\n",
      "50%        20.000000\n",
      "75%        24.000000\n",
      "max        36.000000\n",
      "Name: Hours_Studied, dtype: float64\n"
     ]
    }
   ],
   "source": [
    "data_frame = data_frame[(data_frame['Hours_Studied'] >= Q1 - 1.5 * IQR) & (data_frame['Hours_Studied'] <= Q3 + 1.5 * IQR)]\n",
    "print(data_frame['Hours_Studied'].describe())"
   ]
  },
  {
   "cell_type": "markdown",
   "metadata": {},
   "source": [
    "### Scaling features to a common range\n",
    "Scaling the features makes it easier for machine learning algorithms to find the optimal solution, as the different scales of the features do not influence them. This table shows the IQR range for all numerical columns which can then be used to scale the features, making it easier to identify the ranges to scale within."
   ]
  },
  {
   "cell_type": "code",
   "execution_count": 14,
   "metadata": {},
   "outputs": [
    {
     "name": "stdout",
     "output_type": "stream",
     "text": [
      "\n",
      "Descriptive statistics for each numerical column:\n",
      "                    count       mean        std   min   25%   50%   75%    max\n",
      "Hours_Studied      6607.0  19.975329   5.990594   1.0  16.0  20.0  24.0   44.0\n",
      "Attendance         6607.0  79.977448  11.547475  60.0  70.0  80.0  90.0  100.0\n",
      "Sleep_Hours        6607.0   7.029060   1.468120   4.0   6.0   7.0   8.0   10.0\n",
      "Previous_Scores    6607.0  75.070531  14.399784  50.0  63.0  75.0  88.0  100.0\n",
      "Tutoring_Sessions  6607.0   1.493719   1.230570   0.0   1.0   1.0   2.0    8.0\n",
      "Physical_Activity  6607.0   2.967610   1.031231   0.0   2.0   3.0   4.0    6.0\n",
      "Exam_Score         6607.0  67.235659   3.890456  55.0  65.0  67.0  69.0  101.0\n"
     ]
    }
   ],
   "source": [
    "import pandas as pd\n",
    "import numpy as np\n",
    "\n",
    "# Load the Dataset\n",
    "data_frame = pd.read_csv('1.1.4.Student_Scores_Data.csv')\n",
    "\n",
    "# Describe the dataset to get the required statistics\n",
    "description = data_frame.describe().T\n",
    "\n",
    "# Select only the required columns\n",
    "description = description[['count', 'mean', 'std', 'min', '25%', '50%', '75%', 'max']]\n",
    "\n",
    "# Display the description table\n",
    "print(\"\\nDescriptive statistics for each numerical column:\")\n",
    "print(description)"
   ]
  },
  {
   "cell_type": "code",
   "execution_count": 15,
   "metadata": {},
   "outputs": [
    {
     "name": "stdout",
     "output_type": "stream",
     "text": [
      "       Hours_Studied   Attendance  Sleep_Hours  Previous_Scores  \\\n",
      "count    6607.000000  6607.000000   6607.00000      6607.000000   \n",
      "mean        0.441287    79.977448      7.02906        75.070531   \n",
      "std         0.139316    11.547475      1.46812        14.399784   \n",
      "min         0.000000    60.000000      4.00000        50.000000   \n",
      "25%         0.348837    70.000000      6.00000        63.000000   \n",
      "50%         0.441860    80.000000      7.00000        75.000000   \n",
      "75%         0.534884    90.000000      8.00000        88.000000   \n",
      "max         1.000000   100.000000     10.00000       100.000000   \n",
      "\n",
      "       Tutoring_Sessions  Physical_Activity   Exam_Score  \n",
      "count        6607.000000        6607.000000  6607.000000  \n",
      "mean            1.493719           2.967610    67.235659  \n",
      "std             1.230570           1.031231     3.890456  \n",
      "min             0.000000           0.000000    55.000000  \n",
      "25%             1.000000           2.000000    65.000000  \n",
      "50%             1.000000           3.000000    67.000000  \n",
      "75%             2.000000           4.000000    69.000000  \n",
      "max             8.000000           6.000000   101.000000  \n",
      "      Hours_Studied  Attendance Parental_Involvement Access_to_Resources  \\\n",
      "0          0.511628          84                  Low                High   \n",
      "1          0.418605          64                  Low              Medium   \n",
      "2          0.534884          98               Medium              Medium   \n",
      "3          0.651163          89                  Low              Medium   \n",
      "4          0.418605          92               Medium              Medium   \n",
      "...             ...         ...                  ...                 ...   \n",
      "6602       0.558140          69                 High              Medium   \n",
      "6603       0.511628          76                 High              Medium   \n",
      "6604       0.441860          90               Medium                 Low   \n",
      "6605       0.209302          86                 High                High   \n",
      "6606       0.325581          67               Medium                 Low   \n",
      "\n",
      "     Extracurricular_Activities  Sleep_Hours  Previous_Scores  \\\n",
      "0                            No            7               73   \n",
      "1                            No            8               59   \n",
      "2                           Yes            7               91   \n",
      "3                           Yes            8               98   \n",
      "4                           Yes            6               65   \n",
      "...                         ...          ...              ...   \n",
      "6602                         No            7               76   \n",
      "6603                         No            8               81   \n",
      "6604                        Yes            6               65   \n",
      "6605                        Yes            6               91   \n",
      "6606                        Yes            9               94   \n",
      "\n",
      "     Motivation_Level Internet_Access  Tutoring_Sessions Family_Income  \\\n",
      "0                 Low             Yes                  0           Low   \n",
      "1                 Low             Yes                  2        Medium   \n",
      "2              Medium             Yes                  2        Medium   \n",
      "3              Medium             Yes                  1        Medium   \n",
      "4              Medium             Yes                  3        Medium   \n",
      "...               ...             ...                ...           ...   \n",
      "6602           Medium             Yes                  1          High   \n",
      "6603           Medium             Yes                  3           Low   \n",
      "6604              Low             Yes                  3           Low   \n",
      "6605             High             Yes                  2           Low   \n",
      "6606           Medium             Yes                  0        Medium   \n",
      "\n",
      "     Teacher_Quality School_Type Peer_Influence  Physical_Activity  \\\n",
      "0             Medium      Public       Positive                  3   \n",
      "1             Medium      Public       Negative                  4   \n",
      "2             Medium      Public        Neutral                  4   \n",
      "3             Medium      Public       Negative                  4   \n",
      "4               High      Public        Neutral                  4   \n",
      "...              ...         ...            ...                ...   \n",
      "6602          Medium      Public       Positive                  2   \n",
      "6603            High      Public       Positive                  2   \n",
      "6604          Medium      Public       Negative                  2   \n",
      "6605          Medium     Private       Positive                  3   \n",
      "6606          Medium      Public       Positive                  4   \n",
      "\n",
      "     Learning_Disabilities Parental_Education_Level Distance_from_Home  \\\n",
      "0                       No              High School               Near   \n",
      "1                       No                  College           Moderate   \n",
      "2                       No             Postgraduate               Near   \n",
      "3                       No              High School           Moderate   \n",
      "4                       No                  College               Near   \n",
      "...                    ...                      ...                ...   \n",
      "6602                    No              High School               Near   \n",
      "6603                    No              High School               Near   \n",
      "6604                    No             Postgraduate               Near   \n",
      "6605                    No              High School                Far   \n",
      "6606                    No             Postgraduate               Near   \n",
      "\n",
      "      Gender  Exam_Score  \n",
      "0       Male          67  \n",
      "1     Female          61  \n",
      "2       Male          74  \n",
      "3       Male          71  \n",
      "4     Female          70  \n",
      "...      ...         ...  \n",
      "6602  Female          68  \n",
      "6603  Female          69  \n",
      "6604  Female          68  \n",
      "6605  Female          68  \n",
      "6606    Male          64  \n",
      "\n",
      "[6607 rows x 20 columns]\n",
      "      Hours_Studied  Attendance Parental_Involvement Access_to_Resources  \\\n",
      "0          0.511628          84                  Low                High   \n",
      "1          0.418605          64                  Low              Medium   \n",
      "2          0.534884          98               Medium              Medium   \n",
      "3          0.651163          89                  Low              Medium   \n",
      "4          0.418605          92               Medium              Medium   \n",
      "...             ...         ...                  ...                 ...   \n",
      "6602       0.558140          69                 High              Medium   \n",
      "6603       0.511628          76                 High              Medium   \n",
      "6604       0.441860          90               Medium                 Low   \n",
      "6605       0.209302          86                 High                High   \n",
      "6606       0.325581          67               Medium                 Low   \n",
      "\n",
      "     Extracurricular_Activities  Sleep_Hours  Previous_Scores  \\\n",
      "0                            No            7               73   \n",
      "1                            No            8               59   \n",
      "2                           Yes            7               91   \n",
      "3                           Yes            8               98   \n",
      "4                           Yes            6               65   \n",
      "...                         ...          ...              ...   \n",
      "6602                         No            7               76   \n",
      "6603                         No            8               81   \n",
      "6604                        Yes            6               65   \n",
      "6605                        Yes            6               91   \n",
      "6606                        Yes            9               94   \n",
      "\n",
      "     Motivation_Level Internet_Access  Tutoring_Sessions Family_Income  \\\n",
      "0                 Low             Yes                  0           Low   \n",
      "1                 Low             Yes                  2        Medium   \n",
      "2              Medium             Yes                  2        Medium   \n",
      "3              Medium             Yes                  1        Medium   \n",
      "4              Medium             Yes                  3        Medium   \n",
      "...               ...             ...                ...           ...   \n",
      "6602           Medium             Yes                  1          High   \n",
      "6603           Medium             Yes                  3           Low   \n",
      "6604              Low             Yes                  3           Low   \n",
      "6605             High             Yes                  2           Low   \n",
      "6606           Medium             Yes                  0        Medium   \n",
      "\n",
      "     Teacher_Quality School_Type Peer_Influence  Physical_Activity  \\\n",
      "0             Medium      Public       Positive                  3   \n",
      "1             Medium      Public       Negative                  4   \n",
      "2             Medium      Public        Neutral                  4   \n",
      "3             Medium      Public       Negative                  4   \n",
      "4               High      Public        Neutral                  4   \n",
      "...              ...         ...            ...                ...   \n",
      "6602          Medium      Public       Positive                  2   \n",
      "6603            High      Public       Positive                  2   \n",
      "6604          Medium      Public       Negative                  2   \n",
      "6605          Medium     Private       Positive                  3   \n",
      "6606          Medium      Public       Positive                  4   \n",
      "\n",
      "     Learning_Disabilities Parental_Education_Level Distance_from_Home  \\\n",
      "0                       No              High School               Near   \n",
      "1                       No                  College           Moderate   \n",
      "2                       No             Postgraduate               Near   \n",
      "3                       No              High School           Moderate   \n",
      "4                       No                  College               Near   \n",
      "...                    ...                      ...                ...   \n",
      "6602                    No              High School               Near   \n",
      "6603                    No              High School               Near   \n",
      "6604                    No             Postgraduate               Near   \n",
      "6605                    No              High School                Far   \n",
      "6606                    No             Postgraduate               Near   \n",
      "\n",
      "      Gender  Exam_Score  \n",
      "0       Male          67  \n",
      "1     Female          61  \n",
      "2       Male          74  \n",
      "3       Male          71  \n",
      "4     Female          70  \n",
      "...      ...         ...  \n",
      "6602  Female          68  \n",
      "6603  Female          69  \n",
      "6604  Female          68  \n",
      "6605  Female          68  \n",
      "6606    Male          64  \n",
      "\n",
      "[6607 rows x 20 columns]\n"
     ]
    }
   ],
   "source": [
    "scale_feature = 'Hours_Studied'\n",
    "\n",
    "MIN_HS = data_frame[scale_feature].min()\n",
    "MAX_HS = data_frame[scale_feature].max()\n",
    "\n",
    "data_frame[scale_feature] = data_frame[scale_feature].clip(lower=MIN_HS, upper=MAX_HS)\n",
    "\n",
    "data_frame[scale_feature] = [(X - MIN_HS) / (MAX_HS - MIN_HS) for X in data_frame[scale_feature]]\n",
    "\n",
    "print(data_frame.describe())\n",
    "print(data_frame)\n",
    "print(data_frame)"
   ]
  },
  {
   "cell_type": "markdown",
   "metadata": {},
   "source": [
    "This cell intitializes a dictionary for scaling parameters.This ensures that the same scaling parameters can be used later when preprocessing new data for predictions. "
   ]
  },
  {
   "cell_type": "code",
   "execution_count": 18,
   "metadata": {},
   "outputs": [
    {
     "name": "stdout",
     "output_type": "stream",
     "text": [
      "       Hours_Studied   Attendance  Sleep_Hours  Previous_Scores  \\\n",
      "count    6607.000000  6607.000000  6607.000000      6607.000000   \n",
      "mean        0.441287     0.499436     0.504843         0.501411   \n",
      "std         0.139316     0.288687     0.244687         0.287996   \n",
      "min         0.000000     0.000000     0.000000         0.000000   \n",
      "25%         0.348837     0.250000     0.333333         0.260000   \n",
      "50%         0.441860     0.500000     0.500000         0.500000   \n",
      "75%         0.534884     0.750000     0.666667         0.760000   \n",
      "max         1.000000     1.000000     1.000000         1.000000   \n",
      "\n",
      "       Tutoring_Sessions  Physical_Activity   Exam_Score  \n",
      "count        6607.000000        6607.000000  6607.000000  \n",
      "mean            0.186715           0.494602    67.235659  \n",
      "std             0.153821           0.171872     3.890456  \n",
      "min             0.000000           0.000000    55.000000  \n",
      "25%             0.125000           0.333333    65.000000  \n",
      "50%             0.125000           0.500000    67.000000  \n",
      "75%             0.250000           0.666667    69.000000  \n",
      "max             1.000000           1.000000   101.000000  \n",
      "      Hours_Studied  Attendance Parental_Involvement Access_to_Resources  \\\n",
      "0          0.511628       0.600                  Low                High   \n",
      "1          0.418605       0.100                  Low              Medium   \n",
      "2          0.534884       0.950               Medium              Medium   \n",
      "3          0.651163       0.725                  Low              Medium   \n",
      "4          0.418605       0.800               Medium              Medium   \n",
      "...             ...         ...                  ...                 ...   \n",
      "6602       0.558140       0.225                 High              Medium   \n",
      "6603       0.511628       0.400                 High              Medium   \n",
      "6604       0.441860       0.750               Medium                 Low   \n",
      "6605       0.209302       0.650                 High                High   \n",
      "6606       0.325581       0.175               Medium                 Low   \n",
      "\n",
      "     Extracurricular_Activities  Sleep_Hours  Previous_Scores  \\\n",
      "0                            No     0.500000             0.46   \n",
      "1                            No     0.666667             0.18   \n",
      "2                           Yes     0.500000             0.82   \n",
      "3                           Yes     0.666667             0.96   \n",
      "4                           Yes     0.333333             0.30   \n",
      "...                         ...          ...              ...   \n",
      "6602                         No     0.500000             0.52   \n",
      "6603                         No     0.666667             0.62   \n",
      "6604                        Yes     0.333333             0.30   \n",
      "6605                        Yes     0.333333             0.82   \n",
      "6606                        Yes     0.833333             0.88   \n",
      "\n",
      "     Motivation_Level Internet_Access  Tutoring_Sessions Family_Income  \\\n",
      "0                 Low             Yes              0.000           Low   \n",
      "1                 Low             Yes              0.250        Medium   \n",
      "2              Medium             Yes              0.250        Medium   \n",
      "3              Medium             Yes              0.125        Medium   \n",
      "4              Medium             Yes              0.375        Medium   \n",
      "...               ...             ...                ...           ...   \n",
      "6602           Medium             Yes              0.125          High   \n",
      "6603           Medium             Yes              0.375           Low   \n",
      "6604              Low             Yes              0.375           Low   \n",
      "6605             High             Yes              0.250           Low   \n",
      "6606           Medium             Yes              0.000        Medium   \n",
      "\n",
      "     Teacher_Quality School_Type Peer_Influence  Physical_Activity  \\\n",
      "0             Medium      Public       Positive           0.500000   \n",
      "1             Medium      Public       Negative           0.666667   \n",
      "2             Medium      Public        Neutral           0.666667   \n",
      "3             Medium      Public       Negative           0.666667   \n",
      "4               High      Public        Neutral           0.666667   \n",
      "...              ...         ...            ...                ...   \n",
      "6602          Medium      Public       Positive           0.333333   \n",
      "6603            High      Public       Positive           0.333333   \n",
      "6604          Medium      Public       Negative           0.333333   \n",
      "6605          Medium     Private       Positive           0.500000   \n",
      "6606          Medium      Public       Positive           0.666667   \n",
      "\n",
      "     Learning_Disabilities Parental_Education_Level Distance_from_Home  \\\n",
      "0                       No              High School               Near   \n",
      "1                       No                  College           Moderate   \n",
      "2                       No             Postgraduate               Near   \n",
      "3                       No              High School           Moderate   \n",
      "4                       No                  College               Near   \n",
      "...                    ...                      ...                ...   \n",
      "6602                    No              High School               Near   \n",
      "6603                    No              High School               Near   \n",
      "6604                    No             Postgraduate               Near   \n",
      "6605                    No              High School                Far   \n",
      "6606                    No             Postgraduate               Near   \n",
      "\n",
      "      Gender  Exam_Score  \n",
      "0       Male          67  \n",
      "1     Female          61  \n",
      "2       Male          74  \n",
      "3       Male          71  \n",
      "4     Female          70  \n",
      "...      ...         ...  \n",
      "6602  Female          68  \n",
      "6603  Female          69  \n",
      "6604  Female          68  \n",
      "6605  Female          68  \n",
      "6606    Male          64  \n",
      "\n",
      "[6607 rows x 20 columns]\n"
     ]
    }
   ],
   "source": [
    "\n",
    "scale_features = ['Hours_Studied', 'Attendance', 'Previous_Scores']\n",
    "scaling_params = {}\n",
    "\n",
    "for scale_feature in scale_features:\n",
    "    MIN_VAL = data_frame[scale_feature].min()\n",
    "    MAX_VAL = data_frame[scale_feature].max()\n",
    "    scaling_params[scale_feature] = (MIN_VAL, MAX_VAL)\n",
    "    data_frame[scale_feature] = (data_frame[scale_feature] - MIN_VAL) / (MAX_VAL - MIN_VAL)\n",
    "\n",
    "with open('../1.2.Feature_Engineering/scaling_params.pkl', 'wb') as f:\n",
    "    pickle.dump(scaling_params, f)\n",
    "\n",
    "# Display the scaled data\n",
    "print(data_frame.describe())\n",
    "print(data_frame)\n"
   ]
  },
  {
   "cell_type": "code",
   "execution_count": 20,
   "metadata": {},
   "outputs": [],
   "source": [
    "min_exam_score = data_frame[\"Exam_Score\"].min()\n",
    "max_exam_score = data_frame[\"Exam_Score\"].max()\n",
    "scaling_params[\"Exam_Score\"] = (min_exam_score, max_exam_score)\n",
    "\n",
    "# Save the scaling parameters to a file\n",
    "with open('../1.2.Feature_Engineering/scaling_params.pkl', 'wb') as f:\n",
    "    pickle.dump(scaling_params, f)"
   ]
  },
  {
   "cell_type": "code",
   "execution_count": 19,
   "metadata": {},
   "outputs": [
    {
     "data": {
      "text/html": [
       "<div>\n",
       "<style scoped>\n",
       "    .dataframe tbody tr th:only-of-type {\n",
       "        vertical-align: middle;\n",
       "    }\n",
       "\n",
       "    .dataframe tbody tr th {\n",
       "        vertical-align: top;\n",
       "    }\n",
       "\n",
       "    .dataframe thead th {\n",
       "        text-align: right;\n",
       "    }\n",
       "</style>\n",
       "<table border=\"1\" class=\"dataframe\">\n",
       "  <thead>\n",
       "    <tr style=\"text-align: right;\">\n",
       "      <th></th>\n",
       "      <th>Hours_Studied</th>\n",
       "      <th>Attendance</th>\n",
       "      <th>Sleep_Hours</th>\n",
       "      <th>Previous_Scores</th>\n",
       "      <th>Tutoring_Sessions</th>\n",
       "      <th>Physical_Activity</th>\n",
       "      <th>Exam_Score</th>\n",
       "    </tr>\n",
       "  </thead>\n",
       "  <tbody>\n",
       "    <tr>\n",
       "      <th>count</th>\n",
       "      <td>6607.000000</td>\n",
       "      <td>6607.000000</td>\n",
       "      <td>6607.000000</td>\n",
       "      <td>6607.000000</td>\n",
       "      <td>6607.000000</td>\n",
       "      <td>6607.000000</td>\n",
       "      <td>6607.000000</td>\n",
       "    </tr>\n",
       "    <tr>\n",
       "      <th>mean</th>\n",
       "      <td>0.441287</td>\n",
       "      <td>0.499436</td>\n",
       "      <td>0.504843</td>\n",
       "      <td>0.501411</td>\n",
       "      <td>0.186715</td>\n",
       "      <td>0.494602</td>\n",
       "      <td>67.235659</td>\n",
       "    </tr>\n",
       "    <tr>\n",
       "      <th>std</th>\n",
       "      <td>0.139316</td>\n",
       "      <td>0.288687</td>\n",
       "      <td>0.244687</td>\n",
       "      <td>0.287996</td>\n",
       "      <td>0.153821</td>\n",
       "      <td>0.171872</td>\n",
       "      <td>3.890456</td>\n",
       "    </tr>\n",
       "    <tr>\n",
       "      <th>min</th>\n",
       "      <td>0.000000</td>\n",
       "      <td>0.000000</td>\n",
       "      <td>0.000000</td>\n",
       "      <td>0.000000</td>\n",
       "      <td>0.000000</td>\n",
       "      <td>0.000000</td>\n",
       "      <td>55.000000</td>\n",
       "    </tr>\n",
       "    <tr>\n",
       "      <th>25%</th>\n",
       "      <td>0.348837</td>\n",
       "      <td>0.250000</td>\n",
       "      <td>0.333333</td>\n",
       "      <td>0.260000</td>\n",
       "      <td>0.125000</td>\n",
       "      <td>0.333333</td>\n",
       "      <td>65.000000</td>\n",
       "    </tr>\n",
       "    <tr>\n",
       "      <th>50%</th>\n",
       "      <td>0.441860</td>\n",
       "      <td>0.500000</td>\n",
       "      <td>0.500000</td>\n",
       "      <td>0.500000</td>\n",
       "      <td>0.125000</td>\n",
       "      <td>0.500000</td>\n",
       "      <td>67.000000</td>\n",
       "    </tr>\n",
       "    <tr>\n",
       "      <th>75%</th>\n",
       "      <td>0.534884</td>\n",
       "      <td>0.750000</td>\n",
       "      <td>0.666667</td>\n",
       "      <td>0.760000</td>\n",
       "      <td>0.250000</td>\n",
       "      <td>0.666667</td>\n",
       "      <td>69.000000</td>\n",
       "    </tr>\n",
       "    <tr>\n",
       "      <th>max</th>\n",
       "      <td>1.000000</td>\n",
       "      <td>1.000000</td>\n",
       "      <td>1.000000</td>\n",
       "      <td>1.000000</td>\n",
       "      <td>1.000000</td>\n",
       "      <td>1.000000</td>\n",
       "      <td>101.000000</td>\n",
       "    </tr>\n",
       "  </tbody>\n",
       "</table>\n",
       "</div>"
      ],
      "text/plain": [
       "       Hours_Studied   Attendance  Sleep_Hours  Previous_Scores  \\\n",
       "count    6607.000000  6607.000000  6607.000000      6607.000000   \n",
       "mean        0.441287     0.499436     0.504843         0.501411   \n",
       "std         0.139316     0.288687     0.244687         0.287996   \n",
       "min         0.000000     0.000000     0.000000         0.000000   \n",
       "25%         0.348837     0.250000     0.333333         0.260000   \n",
       "50%         0.441860     0.500000     0.500000         0.500000   \n",
       "75%         0.534884     0.750000     0.666667         0.760000   \n",
       "max         1.000000     1.000000     1.000000         1.000000   \n",
       "\n",
       "       Tutoring_Sessions  Physical_Activity   Exam_Score  \n",
       "count        6607.000000        6607.000000  6607.000000  \n",
       "mean            0.186715           0.494602    67.235659  \n",
       "std             0.153821           0.171872     3.890456  \n",
       "min             0.000000           0.000000    55.000000  \n",
       "25%             0.125000           0.333333    65.000000  \n",
       "50%             0.125000           0.500000    67.000000  \n",
       "75%             0.250000           0.666667    69.000000  \n",
       "max             1.000000           1.000000   101.000000  "
      ]
     },
     "execution_count": 19,
     "metadata": {},
     "output_type": "execute_result"
    }
   ],
   "source": [
    "# Verify the scaled data\n",
    "data_frame.describe()"
   ]
  },
  {
   "cell_type": "markdown",
   "metadata": {},
   "source": [
    "[!important] You need to save the calculations for each dataset you scale for scaling new values for prediction. Use 1.1.2.data.records.md to record this information."
   ]
  },
  {
   "cell_type": "markdown",
   "metadata": {},
   "source": [
    "## Save the wrangled data to CSV\n"
   ]
  },
  {
   "cell_type": "code",
   "execution_count": 23,
   "metadata": {},
   "outputs": [],
   "source": [
    "data_frame.to_csv('../1.2.Feature_Engineering/wrangled_data.csv', index=False)"
   ]
  }
 ],
 "metadata": {
  "kernelspec": {
   "display_name": "Python 3",
   "language": "python",
   "name": "python3"
  },
  "language_info": {
   "codemirror_mode": {
    "name": "ipython",
    "version": 3
   },
   "file_extension": ".py",
   "mimetype": "text/x-python",
   "name": "python",
   "nbconvert_exporter": "python",
   "pygments_lexer": "ipython3",
   "version": "3.11.9"
  }
 },
 "nbformat": 4,
 "nbformat_minor": 2
}
