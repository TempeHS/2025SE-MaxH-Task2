{
 "cells": [
  {
   "cell_type": "markdown",
   "metadata": {},
   "source": [
    "# Feature Engineering\n",
    "This Jupyter Notepad is a selection of data engineering processes you can apply to your data before model training to maximise the performance of your machine learning model. For this demonstration we will engineer new or improved features for the diabetes data you previously wrangled.\n",
    "\n",
    "## Feature Engineering Process\n",
    " - Deriving new variables from existing ones\n",
    "    - Encoding categorical features\n",
    "    - Calculating new features from existing features\n",
    " - Combining features/feature interactions\n",
    " - Identifying the most relevant features for the model\n",
    " - Transforming Features\n",
    "    - Dividing Data into categories\n",
    "    - Mathematical transformations (for example logarithmic transformations). Logarithmic transformations are a powerful tool in the world of statistical analysis. They are often used to transform data that exhibit skewness or other irregularities, making it easier to analyze, visualize, and interpret the results.\n",
    " - Creating Domain-Specific Features that incorporating knowledge from the specific domain to create features that capture important characteristics of the data."
   ]
  },
  {
   "cell_type": "markdown",
   "metadata": {},
   "source": [
    "### Load the required dependencies"
   ]
  },
  {
   "cell_type": "code",
   "execution_count": 2,
   "metadata": {},
   "outputs": [],
   "source": [
    "# Import frameworks\n",
    "import pandas as pd"
   ]
  },
  {
   "cell_type": "markdown",
   "metadata": {},
   "source": [
    "### Store the data as a local variable\n",
    "The data frame is a Pandas object that structures your tabular data into an appropriate format. It loads the complete data in memory so it is now ready for preprocessing."
   ]
  },
  {
   "cell_type": "code",
   "execution_count": 3,
   "metadata": {},
   "outputs": [],
   "source": [
    "data_frame = pd.read_csv(\"wrangled_data.csv\")"
   ]
  },
  {
   "cell_type": "markdown",
   "metadata": {},
   "source": [
    "### Deriving new variables from existing ones\n",
    "Encoding categorical variables\n",
    "Data Encoding converts textual data into numerical format, so that it can be used as input for algorithms to process. The reason for encoding is that most machine learning algorithms work with numbers and not with text or categorical variables.\n",
    "\n",
    "To encode the 'gender' column you will assigning a number value to the gender. Because the data set only provides 2 values we will use -1 and 1 because using 0 and 1 may be interpreted by the model as boolean values which could lead to bias in training and testing."
   ]
  },
  {
   "cell_type": "code",
   "execution_count": 4,
   "metadata": {},
   "outputs": [
    {
     "name": "stdout",
     "output_type": "stream",
     "text": [
      "0   -1\n",
      "1    1\n",
      "2   -1\n",
      "3   -1\n",
      "4    1\n",
      "Name: Gender, dtype: int64\n"
     ]
    }
   ],
   "source": [
    "data_frame['Gender'] = data_frame['Gender'].apply(lambda Gender: -1 if Gender == 'Male' else 1 if Gender == 'Female' else None)\n",
    "print(data_frame['Gender'].head())"
   ]
  },
  {
   "cell_type": "markdown",
   "metadata": {},
   "source": [
    "I will also be encoding the School Type column as there is only 2 variables and will be using -1 and 1 like with the Gender column."
   ]
  },
  {
   "cell_type": "code",
   "execution_count": 5,
   "metadata": {},
   "outputs": [
    {
     "name": "stdout",
     "output_type": "stream",
     "text": [
      "0   -1\n",
      "1   -1\n",
      "2   -1\n",
      "3   -1\n",
      "4   -1\n",
      "Name: School_Type, dtype: int64\n"
     ]
    }
   ],
   "source": [
    "data_frame['School_Type'] = data_frame['School_Type'].apply(lambda School_Type: -1 if School_Type == 'Public' else 1 if School_Type == 'Private' else None)\n",
    "print(data_frame['School_Type'].head())"
   ]
  },
  {
   "cell_type": "markdown",
   "metadata": {},
   "source": [
    "I will also be encoding the Learning_disabilities column as there is only 2 variables and will be using -1 and 1 like with the Gender column."
   ]
  },
  {
   "cell_type": "code",
   "execution_count": 6,
   "metadata": {},
   "outputs": [
    {
     "name": "stdout",
     "output_type": "stream",
     "text": [
      "0   -1\n",
      "1   -1\n",
      "2   -1\n",
      "3   -1\n",
      "4   -1\n",
      "Name: Learning_Disabilities, dtype: int64\n"
     ]
    }
   ],
   "source": [
    "data_frame['Learning_Disabilities'] = data_frame['Learning_Disabilities'].apply(lambda Learning_Disabilities: -1 if Learning_Disabilities == 'No' else 1 if Learning_Disabilities == 'Yes' else None)\n",
    "print(data_frame['Learning_Disabilities'].head())"
   ]
  },
  {
   "cell_type": "markdown",
   "metadata": {},
   "source": [
    "I will also be encoding the Internet_access column as there is only 2 variables and will be using -1 and 1 like with the Gender column."
   ]
  },
  {
   "cell_type": "code",
   "execution_count": 7,
   "metadata": {},
   "outputs": [
    {
     "name": "stdout",
     "output_type": "stream",
     "text": [
      "0    1\n",
      "1    1\n",
      "2    1\n",
      "3    1\n",
      "4    1\n",
      "Name: Internet_Access, dtype: int64\n"
     ]
    }
   ],
   "source": [
    "data_frame['Internet_Access'] = data_frame['Internet_Access'].apply(lambda Internet_Access: -1 if Internet_Access == 'No' else 1 if Internet_Access == 'Yes' else None)\n",
    "print(data_frame['Internet_Access'].head())"
   ]
  },
  {
   "cell_type": "markdown",
   "metadata": {},
   "source": [
    "I will also be encoding the Extracurricular_Activities column as there is only 2 variables and will be using -1 and 1 like with the Gender column."
   ]
  },
  {
   "cell_type": "code",
   "execution_count": 8,
   "metadata": {},
   "outputs": [
    {
     "name": "stdout",
     "output_type": "stream",
     "text": [
      "0   -1\n",
      "1   -1\n",
      "2    1\n",
      "3    1\n",
      "4    1\n",
      "Name: Extracurricular_Activities, dtype: int64\n"
     ]
    }
   ],
   "source": [
    "data_frame['Extracurricular_Activities'] = data_frame['Extracurricular_Activities'].apply(lambda Extracurricular_Activities: -1 if Extracurricular_Activities == 'No' else 1 if Extracurricular_Activities == 'Yes' else None)\n",
    "print(data_frame['Extracurricular_Activities'].head())"
   ]
  },
  {
   "cell_type": "markdown",
   "metadata": {},
   "source": [
    "I will also be encoding the Parental involvement column. This column contains 3 different categories (Low, Medium and High) unlike the previous data columns. In the previous columns the categorical data was only 2 categories like Yes or no, Male and Female so it was encoded to -1 and 1 to mitigate any potential bias. For the next few categorical data columns with more than 2 categories like Parental Involvement with Low, Medium and High as each value has a relationship I will be encoding it to 1, 2, 3 to ensure the model doesnt interpret it as boolean values."
   ]
  },
  {
   "cell_type": "code",
   "execution_count": 9,
   "metadata": {},
   "outputs": [
    {
     "name": "stdout",
     "output_type": "stream",
     "text": [
      "0    1\n",
      "1    1\n",
      "2    2\n",
      "3    1\n",
      "4    2\n",
      "Name: Parental_Involvement, dtype: int64\n"
     ]
    }
   ],
   "source": [
    "data_frame['Parental_Involvement'] = data_frame['Parental_Involvement'].apply(lambda involvement: 1 if involvement == 'Low' else 2 if involvement == 'Medium' else 3 if involvement == 'High' else None)\n",
    "print(data_frame['Parental_Involvement'].head())"
   ]
  },
  {
   "cell_type": "markdown",
   "metadata": {},
   "source": [
    "I will do the same for access to resources."
   ]
  },
  {
   "cell_type": "code",
   "execution_count": 10,
   "metadata": {},
   "outputs": [
    {
     "name": "stdout",
     "output_type": "stream",
     "text": [
      "0    3\n",
      "1    2\n",
      "2    2\n",
      "3    2\n",
      "4    2\n",
      "Name: Access_to_Resources, dtype: int64\n"
     ]
    }
   ],
   "source": [
    "data_frame['Access_to_Resources'] = data_frame['Access_to_Resources'].apply(lambda Access_to_Resources: 1 if Access_to_Resources == 'Low' else 2 if Access_to_Resources == 'Medium' else 3 if Access_to_Resources == 'High' else None)\n",
    "print(data_frame['Access_to_Resources'].head())"
   ]
  },
  {
   "cell_type": "markdown",
   "metadata": {},
   "source": [
    "I will do the same for Motivation Level"
   ]
  },
  {
   "cell_type": "code",
   "execution_count": 11,
   "metadata": {},
   "outputs": [
    {
     "name": "stdout",
     "output_type": "stream",
     "text": [
      "0    1\n",
      "1    1\n",
      "2    2\n",
      "3    2\n",
      "4    2\n",
      "Name: Motivation_Level, dtype: int64\n"
     ]
    }
   ],
   "source": [
    "data_frame['Motivation_Level'] = data_frame['Motivation_Level'].apply(lambda Motivation_Level: 1 if Motivation_Level == 'Low' else 2 if Motivation_Level == 'Medium' else 3 if Motivation_Level == 'High' else None)\n",
    "print(data_frame['Motivation_Level'].head())"
   ]
  },
  {
   "cell_type": "markdown",
   "metadata": {},
   "source": [
    "I will do the same for Family income"
   ]
  },
  {
   "cell_type": "code",
   "execution_count": 12,
   "metadata": {},
   "outputs": [
    {
     "name": "stdout",
     "output_type": "stream",
     "text": [
      "0    1\n",
      "1    2\n",
      "2    2\n",
      "3    2\n",
      "4    2\n",
      "Name: Family_Income, dtype: int64\n"
     ]
    }
   ],
   "source": [
    "data_frame['Family_Income'] = data_frame['Family_Income'].apply(lambda Family_Income: 1 if Family_Income == 'Low' else 2 if Family_Income == 'Medium' else 3 if Family_Income == 'High' else None)\n",
    "print(data_frame['Family_Income'].head())"
   ]
  },
  {
   "cell_type": "markdown",
   "metadata": {},
   "source": [
    "I will do the same for Teacher quality"
   ]
  },
  {
   "cell_type": "code",
   "execution_count": 13,
   "metadata": {},
   "outputs": [
    {
     "name": "stdout",
     "output_type": "stream",
     "text": [
      "0    2.0\n",
      "1    2.0\n",
      "2    2.0\n",
      "3    2.0\n",
      "4    3.0\n",
      "Name: Teacher_Quality, dtype: float64\n"
     ]
    }
   ],
   "source": [
    "data_frame['Teacher_Quality'] = data_frame['Teacher_Quality'].apply(lambda Teacher_Quality: 1 if Teacher_Quality == 'Low' else 2 if Teacher_Quality == 'Medium' else 3 if Teacher_Quality == 'High' else None)\n",
    "print(data_frame['Teacher_Quality'].head())"
   ]
  },
  {
   "cell_type": "markdown",
   "metadata": {},
   "source": [
    "I will do the same for peer influence"
   ]
  },
  {
   "cell_type": "code",
   "execution_count": 14,
   "metadata": {},
   "outputs": [
    {
     "name": "stdout",
     "output_type": "stream",
     "text": [
      "0    2.0\n",
      "1    2.0\n",
      "2    2.0\n",
      "3    2.0\n",
      "4    3.0\n",
      "Name: Teacher_Quality, dtype: float64\n"
     ]
    }
   ],
   "source": [
    "data_frame['Peer_Influence'] = data_frame['Peer_Influence'].apply(lambda Peer_Influence: 1 if Peer_Influence == 'Negative' else 2 if Peer_Influence == 'Neutral' else 3 if Peer_Influence == 'Positive' else None)\n",
    "print(data_frame['Teacher_Quality'].head())"
   ]
  },
  {
   "cell_type": "markdown",
   "metadata": {},
   "source": [
    "I will do the same for parental education level"
   ]
  },
  {
   "cell_type": "code",
   "execution_count": 15,
   "metadata": {},
   "outputs": [
    {
     "name": "stdout",
     "output_type": "stream",
     "text": [
      "0    1.0\n",
      "1    2.0\n",
      "2    3.0\n",
      "3    1.0\n",
      "4    2.0\n",
      "Name: Parental_Education_Level, dtype: float64\n"
     ]
    }
   ],
   "source": [
    "data_frame['Parental_Education_Level'] = data_frame['Parental_Education_Level'].apply(lambda Parental_Education_Level: 1 if Parental_Education_Level == 'High School' else 2 if Parental_Education_Level == 'College' else 3 if Parental_Education_Level == 'Postgraduate' else None)\n",
    "print(data_frame['Parental_Education_Level'].head())"
   ]
  },
  {
   "cell_type": "markdown",
   "metadata": {},
   "source": [
    "I will do the same for distance from home"
   ]
  },
  {
   "cell_type": "code",
   "execution_count": 16,
   "metadata": {},
   "outputs": [
    {
     "name": "stdout",
     "output_type": "stream",
     "text": [
      "0    1.0\n",
      "1    2.0\n",
      "2    1.0\n",
      "3    2.0\n",
      "4    1.0\n",
      "Name: Distance_from_Home, dtype: float64\n"
     ]
    }
   ],
   "source": [
    "data_frame['Distance_from_Home'] = data_frame['Distance_from_Home'].apply(lambda Distance_from_Home: 1 if Distance_from_Home == 'Near' else 2 if Distance_from_Home == 'Moderate' else 3 if Distance_from_Home == 'Far' else None)\n",
    "print(data_frame['Distance_from_Home'].head())"
   ]
  },
  {
   "cell_type": "markdown",
   "metadata": {},
   "source": [
    "## Combining features/feature interactions\n",
    "While individual features can be powerful predictors, their interactions often carry even more information. Feature interaction engineering is the process of creating new features that represent the interaction between two or more features.\n",
    "\n",
    "In this, case some domain knowledge and educational institutions have informed me that the Hours_Studied and Previous_Scores are potential multipliers (the more hours studied and the higher the previous scores the greater the feature). From this we can estimate exam score value based on the feature interactions."
   ]
  },
  {
   "cell_type": "markdown",
   "metadata": {},
   "source": [
    "### Hours_Studied x Previous_Scores"
   ]
  },
  {
   "cell_type": "code",
   "execution_count": 17,
   "metadata": {},
   "outputs": [
    {
     "name": "stdout",
     "output_type": "stream",
     "text": [
      "0    0.235349\n",
      "1    0.075349\n",
      "2    0.438605\n",
      "3    0.625116\n",
      "4    0.125581\n",
      "Name: Knowledge, dtype: float64\n",
      "      Hours_Studied  Previous_Scores  Knowledge  Knowledge%\n",
      "0          0.511628             0.46   0.235349        0.26\n",
      "1          0.418605             0.18   0.075349        0.08\n",
      "2          0.534884             0.82   0.438605        0.48\n",
      "3          0.651163             0.96   0.625116        0.68\n",
      "4          0.418605             0.30   0.125581        0.14\n",
      "...             ...              ...        ...         ...\n",
      "6602       0.558140             0.52   0.290233        0.32\n",
      "6603       0.511628             0.62   0.317209        0.35\n",
      "6604       0.441860             0.30   0.132558        0.14\n",
      "6605       0.209302             0.82   0.171628        0.19\n",
      "6606       0.325581             0.88   0.286512        0.31\n",
      "\n",
      "[6607 rows x 4 columns]\n"
     ]
    }
   ],
   "source": [
    "data_frame['Knowledge'] = data_frame['Hours_Studied'] * data_frame['Previous_Scores']\n",
    "print(data_frame['Knowledge'].head())\n",
    "\n",
    "\n",
    "# Create the 'Knowledge' column\n",
    "data_frame['Knowledge'] = data_frame['Hours_Studied'] * data_frame['Previous_Scores']\n",
    "\n",
    "# Calculate the percentage of the maximum knowledge\n",
    "data_frame['Knowledge%'] = (data_frame['Knowledge'] / data_frame['Knowledge'].max()).round(2)\n",
    "\n",
    "# Print the result\n",
    "print(data_frame[['Hours_Studied', 'Previous_Scores', 'Knowledge', 'Knowledge%']])"
   ]
  },
  {
   "cell_type": "markdown",
   "metadata": {},
   "source": [
    "### Access to resources x Tutoring sessions"
   ]
  },
  {
   "cell_type": "code",
   "execution_count": 18,
   "metadata": {
    "vscode": {
     "languageId": "ruby"
    }
   },
   "outputs": [
    {
     "name": "stdout",
     "output_type": "stream",
     "text": [
      "      Access_to_Resources  Tutoring_Sessions  Study_Aid  Study_Aid%\n",
      "0                       3              0.000      0.000        0.00\n",
      "1                       2              0.250      0.500        0.19\n",
      "2                       2              0.250      0.500        0.19\n",
      "3                       2              0.125      0.250        0.10\n",
      "4                       2              0.375      0.750        0.29\n",
      "...                   ...                ...        ...         ...\n",
      "6602                    2              0.125      0.250        0.10\n",
      "6603                    2              0.375      0.750        0.29\n",
      "6604                    1              0.375      0.375        0.14\n",
      "6605                    3              0.250      0.750        0.29\n",
      "6606                    1              0.000      0.000        0.00\n",
      "\n",
      "[6607 rows x 4 columns]\n"
     ]
    }
   ],
   "source": [
    "# Create the 'Study_Aid' column\n",
    "data_frame['Study_Aid'] = data_frame['Access_to_Resources'] * data_frame['Tutoring_Sessions']\n",
    "\n",
    "# Calculate the percentage of the maximum study aid\n",
    "data_frame['Study_Aid%'] = (data_frame['Study_Aid'] / data_frame['Study_Aid'].max()).round(2)\n",
    "\n",
    "# Print the result\n",
    "print(data_frame[['Access_to_Resources', 'Tutoring_Sessions', 'Study_Aid', 'Study_Aid%']])"
   ]
  },
  {
   "cell_type": "markdown",
   "metadata": {},
   "source": [
    "### Parental Involvement x Parental Education"
   ]
  },
  {
   "cell_type": "code",
   "execution_count": 19,
   "metadata": {},
   "outputs": [
    {
     "name": "stdout",
     "output_type": "stream",
     "text": [
      "      Parental_Involvement  Parental_Education_Level  Parental_Engagement  \\\n",
      "0                        1                       1.0                  1.0   \n",
      "1                        1                       2.0                  2.0   \n",
      "2                        2                       3.0                  6.0   \n",
      "3                        1                       1.0                  1.0   \n",
      "4                        2                       2.0                  4.0   \n",
      "...                    ...                       ...                  ...   \n",
      "6602                     3                       1.0                  3.0   \n",
      "6603                     3                       1.0                  3.0   \n",
      "6604                     2                       3.0                  6.0   \n",
      "6605                     3                       1.0                  3.0   \n",
      "6606                     2                       3.0                  6.0   \n",
      "\n",
      "      Parental_Engagement%  \n",
      "0                     0.11  \n",
      "1                     0.22  \n",
      "2                     0.67  \n",
      "3                     0.11  \n",
      "4                     0.44  \n",
      "...                    ...  \n",
      "6602                  0.33  \n",
      "6603                  0.33  \n",
      "6604                  0.67  \n",
      "6605                  0.33  \n",
      "6606                  0.67  \n",
      "\n",
      "[6607 rows x 4 columns]\n"
     ]
    }
   ],
   "source": [
    "# Create the 'Parental_Engagement' column\n",
    "data_frame['Parental_Engagement'] = data_frame['Parental_Involvement'] * data_frame['Parental_Education_Level']\n",
    "\n",
    "# Calculate the percentage of the maximum parental engagement\n",
    "data_frame['Parental_Engagement%'] = (data_frame['Parental_Engagement'] / data_frame['Parental_Engagement'].max()).round(2)\n",
    "\n",
    "# Print the result\n",
    "print(data_frame[['Parental_Involvement', 'Parental_Education_Level', 'Parental_Engagement', 'Parental_Engagement%']])"
   ]
  },
  {
   "cell_type": "markdown",
   "metadata": {},
   "source": [
    "### Transforming Features\n",
    "Filtering is like applying the where clause in a database. It is widely used and can help when you need to work on a specific subset of your data. Fpr this model I will filter data to only include rows where the Learning_Disabilities is No. There is no method call for this, we can just use conditional indexing to fulfil our purpose.\n",
    "\n",
    "By domain knowledge and data analysis, leaning disabilities have a direct affect to test results and marking criteria so will be indexed out to ensure the model is not bias."
   ]
  },
  {
   "cell_type": "code",
   "execution_count": 21,
   "metadata": {},
   "outputs": [
    {
     "name": "stdout",
     "output_type": "stream",
     "text": [
      "      Hours_Studied  Previous_Scores  Exam_Score\n",
      "0          0.511628             0.46    0.260870\n",
      "1          0.418605             0.18    0.130435\n",
      "2          0.534884             0.82    0.413043\n",
      "3          0.651163             0.96    0.347826\n",
      "4          0.418605             0.30    0.326087\n",
      "...             ...              ...         ...\n",
      "6602       0.558140             0.52    0.282609\n",
      "6603       0.511628             0.62    0.304348\n",
      "6604       0.441860             0.30    0.282609\n",
      "6605       0.209302             0.82    0.282609\n",
      "6606       0.325581             0.88    0.195652\n",
      "\n",
      "[5912 rows x 3 columns]\n"
     ]
    }
   ],
   "source": [
    "data_frame = data_frame[data_frame['Learning_Disabilities'] == -1]\n",
    "\n",
    "# Print the result\n",
    "print(data_frame[['Hours_Studied', 'Previous_Scores', 'Exam_Score']])"
   ]
  },
  {
   "cell_type": "markdown",
   "metadata": {},
   "source": [
    "## Save the wrangled and engineered data to CSV\n"
   ]
  },
  {
   "cell_type": "code",
   "execution_count": 22,
   "metadata": {},
   "outputs": [],
   "source": [
    "data_frame.to_csv('../1.3.Model_Training/2.3.1.model_ready_data.csv', index=False)"
   ]
  }
 ],
 "metadata": {
  "kernelspec": {
   "display_name": "Python 3",
   "language": "python",
   "name": "python3"
  },
  "language_info": {
   "codemirror_mode": {
    "name": "ipython",
    "version": 3
   },
   "file_extension": ".py",
   "mimetype": "text/x-python",
   "name": "python",
   "nbconvert_exporter": "python",
   "pygments_lexer": "ipython3",
   "version": "3.12.1"
  }
 },
 "nbformat": 4,
 "nbformat_minor": 2
}
